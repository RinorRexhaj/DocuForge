{
 "cells": [
  {
   "cell_type": "code",
   "execution_count": 1,
   "id": "087fa4f5",
   "metadata": {},
   "outputs": [],
   "source": [
    "import os\n",
    "import random\n",
    "import shutil\n",
    "from pathlib import Path\n",
    "from PIL import Image, ImageDraw, ImageEnhance, ImageFont\n",
    "from tqdm import tqdm\n",
    "from Forgery import make_forgery"
   ]
  },
  {
   "cell_type": "code",
   "execution_count": 2,
   "id": "0c415796",
   "metadata": {},
   "outputs": [],
   "source": [
    "RVLCDIP_ROOT = \"E:/Thesis/rvl-cdip/images/\" \n",
    "OUTPUT_ROOT = \"./dataset\"\n",
    "SAMPLE_SIZE = 1000 \n",
    "SEED = 42\n",
    "\n",
    "random.seed(SEED)"
   ]
  },
  {
   "cell_type": "code",
   "execution_count": 3,
   "id": "9f84e3fc",
   "metadata": {},
   "outputs": [
    {
     "ename": "KeyboardInterrupt",
     "evalue": "",
     "output_type": "error",
     "traceback": [
      "\u001b[1;31m---------------------------------------------------------------------------\u001b[0m",
      "\u001b[1;31mKeyboardInterrupt\u001b[0m                         Traceback (most recent call last)",
      "Cell \u001b[1;32mIn[3], line 1\u001b[0m\n\u001b[1;32m----> 1\u001b[0m all_images \u001b[38;5;241m=\u001b[39m \u001b[38;5;28;43mlist\u001b[39;49m\u001b[43m(\u001b[49m\u001b[43mPath\u001b[49m\u001b[43m(\u001b[49m\u001b[43mRVLCDIP_ROOT\u001b[49m\u001b[43m)\u001b[49m\u001b[38;5;241;43m.\u001b[39;49m\u001b[43mrglob\u001b[49m\u001b[43m(\u001b[49m\u001b[38;5;124;43m\"\u001b[39;49m\u001b[38;5;124;43m*.tif\u001b[39;49m\u001b[38;5;124;43m\"\u001b[39;49m\u001b[43m)\u001b[49m\u001b[43m)\u001b[49m\n\u001b[0;32m      2\u001b[0m \u001b[38;5;28mprint\u001b[39m(\u001b[38;5;124mf\u001b[39m\u001b[38;5;124m\"\u001b[39m\u001b[38;5;124mFound \u001b[39m\u001b[38;5;132;01m{\u001b[39;00m\u001b[38;5;28mlen\u001b[39m(all_images)\u001b[38;5;132;01m:\u001b[39;00m\u001b[38;5;124m,\u001b[39m\u001b[38;5;132;01m}\u001b[39;00m\u001b[38;5;124m images in dataset\u001b[39m\u001b[38;5;124m\"\u001b[39m)\n",
      "File \u001b[1;32mc:\\Python312\\Lib\\pathlib.py:1109\u001b[0m, in \u001b[0;36mPath.rglob\u001b[1;34m(self, pattern, case_sensitive)\u001b[0m\n\u001b[0;32m   1107\u001b[0m     pattern_parts\u001b[38;5;241m.\u001b[39mappend(\u001b[38;5;124m'\u001b[39m\u001b[38;5;124m'\u001b[39m)\n\u001b[0;32m   1108\u001b[0m selector \u001b[38;5;241m=\u001b[39m _make_selector((\u001b[38;5;124m\"\u001b[39m\u001b[38;5;124m**\u001b[39m\u001b[38;5;124m\"\u001b[39m,) \u001b[38;5;241m+\u001b[39m \u001b[38;5;28mtuple\u001b[39m(pattern_parts), \u001b[38;5;28mself\u001b[39m\u001b[38;5;241m.\u001b[39m_flavour, case_sensitive)\n\u001b[1;32m-> 1109\u001b[0m \u001b[43m\u001b[49m\u001b[38;5;28;43;01mfor\u001b[39;49;00m\u001b[43m \u001b[49m\u001b[43mp\u001b[49m\u001b[43m \u001b[49m\u001b[38;5;129;43;01min\u001b[39;49;00m\u001b[43m \u001b[49m\u001b[43mselector\u001b[49m\u001b[38;5;241;43m.\u001b[39;49m\u001b[43mselect_from\u001b[49m\u001b[43m(\u001b[49m\u001b[38;5;28;43mself\u001b[39;49m\u001b[43m)\u001b[49m\u001b[43m:\u001b[49m\n\u001b[0;32m   1110\u001b[0m \u001b[43m    \u001b[49m\u001b[38;5;28;43;01myield\u001b[39;49;00m\u001b[43m \u001b[49m\u001b[43mp\u001b[49m\n",
      "File \u001b[1;32mc:\\Python312\\Lib\\pathlib.py:237\u001b[0m, in \u001b[0;36m_RecursiveWildcardSelector._select_from\u001b[1;34m(self, parent_path, scandir)\u001b[0m\n\u001b[0;32m    235\u001b[0m successor_select \u001b[38;5;241m=\u001b[39m \u001b[38;5;28mself\u001b[39m\u001b[38;5;241m.\u001b[39msuccessor\u001b[38;5;241m.\u001b[39m_select_from\n\u001b[0;32m    236\u001b[0m \u001b[38;5;28;01mfor\u001b[39;00m starting_point \u001b[38;5;129;01min\u001b[39;00m \u001b[38;5;28mself\u001b[39m\u001b[38;5;241m.\u001b[39m_iterate_directories(parent_path):\n\u001b[1;32m--> 237\u001b[0m \u001b[43m    \u001b[49m\u001b[38;5;28;43;01mfor\u001b[39;49;00m\u001b[43m \u001b[49m\u001b[43mp\u001b[49m\u001b[43m \u001b[49m\u001b[38;5;129;43;01min\u001b[39;49;00m\u001b[43m \u001b[49m\u001b[43msuccessor_select\u001b[49m\u001b[43m(\u001b[49m\u001b[43mstarting_point\u001b[49m\u001b[43m,\u001b[49m\u001b[43m \u001b[49m\u001b[43mscandir\u001b[49m\u001b[43m)\u001b[49m\u001b[43m:\u001b[49m\n\u001b[0;32m    238\u001b[0m \u001b[43m        \u001b[49m\u001b[38;5;28;43;01myield\u001b[39;49;00m\u001b[43m \u001b[49m\u001b[43mp\u001b[49m\n",
      "File \u001b[1;32mc:\\Python312\\Lib\\pathlib.py:204\u001b[0m, in \u001b[0;36m_WildcardSelector._select_from\u001b[1;34m(self, parent_path, scandir)\u001b[0m\n\u001b[0;32m    200\u001b[0m \u001b[38;5;28;01mdef\u001b[39;00m \u001b[38;5;21m_select_from\u001b[39m(\u001b[38;5;28mself\u001b[39m, parent_path, scandir):\n\u001b[0;32m    201\u001b[0m     \u001b[38;5;28;01mtry\u001b[39;00m:\n\u001b[0;32m    202\u001b[0m         \u001b[38;5;66;03m# We must close the scandir() object before proceeding to\u001b[39;00m\n\u001b[0;32m    203\u001b[0m         \u001b[38;5;66;03m# avoid exhausting file descriptors when globbing deep trees.\u001b[39;00m\n\u001b[1;32m--> 204\u001b[0m         \u001b[38;5;28;01mwith\u001b[39;00m \u001b[43mscandir\u001b[49m\u001b[43m(\u001b[49m\u001b[43mparent_path\u001b[49m\u001b[43m)\u001b[49m \u001b[38;5;28;01mas\u001b[39;00m scandir_it:\n\u001b[0;32m    205\u001b[0m             entries \u001b[38;5;241m=\u001b[39m \u001b[38;5;28mlist\u001b[39m(scandir_it)\n\u001b[0;32m    206\u001b[0m     \u001b[38;5;28;01mexcept\u001b[39;00m \u001b[38;5;167;01mOSError\u001b[39;00m:\n",
      "File \u001b[1;32mc:\\Python312\\Lib\\pathlib.py:1063\u001b[0m, in \u001b[0;36mPath._scandir\u001b[1;34m(self)\u001b[0m\n\u001b[0;32m   1059\u001b[0m \u001b[38;5;28;01mdef\u001b[39;00m \u001b[38;5;21m_scandir\u001b[39m(\u001b[38;5;28mself\u001b[39m):\n\u001b[0;32m   1060\u001b[0m     \u001b[38;5;66;03m# bpo-24132: a future version of pathlib will support subclassing of\u001b[39;00m\n\u001b[0;32m   1061\u001b[0m     \u001b[38;5;66;03m# pathlib.Path to customize how the filesystem is accessed. This\u001b[39;00m\n\u001b[0;32m   1062\u001b[0m     \u001b[38;5;66;03m# includes scandir(), which is used to implement glob().\u001b[39;00m\n\u001b[1;32m-> 1063\u001b[0m     \u001b[38;5;28;01mreturn\u001b[39;00m \u001b[43mos\u001b[49m\u001b[38;5;241;43m.\u001b[39;49m\u001b[43mscandir\u001b[49m\u001b[43m(\u001b[49m\u001b[38;5;28;43mself\u001b[39;49m\u001b[43m)\u001b[49m\n",
      "\u001b[1;31mKeyboardInterrupt\u001b[0m: "
     ]
    }
   ],
   "source": [
    "all_images = list(Path(RVLCDIP_ROOT).rglob(\"*.tif\"))\n",
    "print(f\"Found {len(all_images):,} images in dataset\")"
   ]
  },
  {
   "cell_type": "code",
   "execution_count": null,
   "id": "1953d315",
   "metadata": {},
   "outputs": [],
   "source": [
    "sampled_images = random.sample(all_images, min(SAMPLE_SIZE, len(all_images)))\n",
    "\n",
    "for subset in [\"train\", \"val\", \"test\"]:\n",
    "    for label in [\"authentic\", \"forged\"]:\n",
    "        os.makedirs(os.path.join(OUTPUT_ROOT, subset, label), exist_ok=True)"
   ]
  },
  {
   "cell_type": "code",
   "execution_count": null,
   "id": "e0834a79",
   "metadata": {},
   "outputs": [],
   "source": [
    "train_split = int(0.7 * len(sampled_images))\n",
    "val_split = int(0.15 * len(sampled_images))\n",
    "\n",
    "splits = {\n",
    "    \"train\": sampled_images[:train_split],\n",
    "    \"val\": sampled_images[train_split:train_split + val_split],\n",
    "    \"test\": sampled_images[train_split + val_split:]\n",
    "}\n"
   ]
  },
  {
   "cell_type": "code",
   "execution_count": null,
   "id": "f5f01637",
   "metadata": {},
   "outputs": [
    {
     "name": "stderr",
     "output_type": "stream",
     "text": [
      "Processing train:   0%|          | 0/1400 [00:00<?, ?it/s]"
     ]
    },
    {
     "name": "stderr",
     "output_type": "stream",
     "text": [
      "Processing train: 100%|██████████| 1400/1400 [08:21<00:00,  2.79it/s]\n",
      "Processing val: 100%|██████████| 300/300 [01:38<00:00,  3.04it/s]\n",
      "Processing test: 100%|██████████| 300/300 [01:33<00:00,  3.21it/s]"
     ]
    },
    {
     "name": "stdout",
     "output_type": "stream",
     "text": [
      "✅ Dataset successfully created!\n",
      "Saved under: ./dataset\n"
     ]
    },
    {
     "name": "stderr",
     "output_type": "stream",
     "text": [
      "\n"
     ]
    }
   ],
   "source": [
    "for subset, images in splits.items():\n",
    "    for path in tqdm(images, desc=f\"Processing {subset}\"):\n",
    "        try:\n",
    "            img = Image.open(path).convert(\"RGB\")\n",
    "        except Exception as e:\n",
    "            print(f\"Skipping {path}: {e}\")\n",
    "            continue\n",
    "\n",
    "        # Save original (real)\n",
    "        base_name = path.stem + \".png\"\n",
    "        real_path = os.path.join(OUTPUT_ROOT, subset, \"authentic\", base_name)\n",
    "        img.save(real_path)\n",
    "\n",
    "        # Generate and save forged version\n",
    "        forged_img = make_forgery(img)\n",
    "        forged_path = os.path.join(OUTPUT_ROOT, subset, \"forged\", path.stem + \"_forged.png\")\n",
    "        forged_img.save(forged_path)\n",
    "\n",
    "print(\"✅ Dataset successfully created!\")\n",
    "print(f\"Saved under: {OUTPUT_ROOT}\")"
   ]
  }
 ],
 "metadata": {
  "kernelspec": {
   "display_name": "Python 3",
   "language": "python",
   "name": "python3"
  },
  "language_info": {
   "codemirror_mode": {
    "name": "ipython",
    "version": 3
   },
   "file_extension": ".py",
   "mimetype": "text/x-python",
   "name": "python",
   "nbconvert_exporter": "python",
   "pygments_lexer": "ipython3",
   "version": "3.12.4"
  }
 },
 "nbformat": 4,
 "nbformat_minor": 5
}
